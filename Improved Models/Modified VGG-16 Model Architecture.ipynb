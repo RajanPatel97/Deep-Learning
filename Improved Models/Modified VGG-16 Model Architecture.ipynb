{
 "cells": [
  {
   "cell_type": "code",
   "execution_count": null,
   "metadata": {},
   "outputs": [],
   "source": [
    "def get_descriptor_model(shape):\n",
    "  \n",
    "    model = VGG16(include_top=False, input_shape=(224,224,3), weights='imagenet')\n",
    "\n",
    "    # Freeze all the layers\n",
    "    for layer in model.layers[:]:\n",
    "        layer.trainable = False\n",
    "\n",
    "    init_weights = keras.initializers.he_normal()\n",
    "\n",
    "    output = model.get_layer('block5_conv3').output\n",
    "\n",
    "    output = Conv2D(64, 3, padding = 'valid', use_bias = True, kernel_initializer=init_weights)(output)\n",
    "    output = BatchNormalization(axis = -1)(output)\n",
    "    output = Activation('relu')(output)\n",
    "    \n",
    "    output = Conv2D(128, 3, padding = 'valid', use_bias = True, kernel_initializer=init_weights)(output)\n",
    "    output = BatchNormalization(axis = -1)(output)\n",
    "    output = Activation('relu')(output)\n",
    "    \n",
    "    output = Conv2D(128,3, padding = 'valid', use_bias = True, kernel_initializer=init_weights)(output)\n",
    "    output = BatchNormalization(axis = -1)(output)\n",
    "    output = Activation('relu')(output)\n",
    "    output = Dropout(0.3)(output)\n",
    "    \n",
    "    output = Conv2D(128, 8, padding = 'valid', use_bias = True, kernel_initializer=init_weights)(output)\n",
    "\n",
    "    output = Reshape((128,))(output)\n",
    "    \n",
    "    model = Model(model.input, output)\n",
    "    \n",
    "    newInput = Input(shape)\n",
    "    i_concat = Concatenate()([newInput, newInput, newInput])\n",
    "    i_resize = Lambda(lambda image: ktf.image.resize_images(image, (224,224)))(i_concat)\n",
    "    newOutput = model(i_resize)\n",
    "    model = Model(newInput, newOutput)\n",
    "    return model"
   ]
  }
 ],
 "metadata": {
  "kernelspec": {
   "display_name": "Python 3",
   "language": "python",
   "name": "python3"
  },
  "language_info": {
   "codemirror_mode": {
    "name": "ipython",
    "version": 3
   },
   "file_extension": ".py",
   "mimetype": "text/x-python",
   "name": "python",
   "nbconvert_exporter": "python",
   "pygments_lexer": "ipython3",
   "version": "3.6.8"
  }
 },
 "nbformat": 4,
 "nbformat_minor": 2
}
